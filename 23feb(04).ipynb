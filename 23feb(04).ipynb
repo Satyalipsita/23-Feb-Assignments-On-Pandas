{
 "cells": [
  {
   "cell_type": "code",
   "execution_count": null,
   "id": "decdcf5e-61bc-42f9-877a-07ac784073ae",
   "metadata": {},
   "outputs": [],
   "source": [
    "#One-dimensional homogenous data is series and two dimensional heterogenous data table is known as dat frame"
   ]
  }
 ],
 "metadata": {
  "kernelspec": {
   "display_name": "Python 3 (ipykernel)",
   "language": "python",
   "name": "python3"
  },
  "language_info": {
   "codemirror_mode": {
    "name": "ipython",
    "version": 3
   },
   "file_extension": ".py",
   "mimetype": "text/x-python",
   "name": "python",
   "nbconvert_exporter": "python",
   "pygments_lexer": "ipython3",
   "version": "3.10.8"
  }
 },
 "nbformat": 4,
 "nbformat_minor": 5
}
