{
 "cells": [
  {
   "cell_type": "code",
   "execution_count": null,
   "id": "56671c84-5f6c-417f-99b3-def24cf07ed8",
   "metadata": {},
   "outputs": [],
   "source": [
    "# Q-5: dtypes,head().describe(),tail() these are few common functiuons can be perated with pnadas dataframe.\n",
    "#Q-6:Series Objects are value-mutable but size-immutable objects, A date frame is mutable object\n"
   ]
  }
 ],
 "metadata": {
  "kernelspec": {
   "display_name": "Python 3 (ipykernel)",
   "language": "python",
   "name": "python3"
  },
  "language_info": {
   "codemirror_mode": {
    "name": "ipython",
    "version": 3
   },
   "file_extension": ".py",
   "mimetype": "text/x-python",
   "name": "python",
   "nbconvert_exporter": "python",
   "pygments_lexer": "ipython3",
   "version": "3.10.8"
  }
 },
 "nbformat": 4,
 "nbformat_minor": 5
}
